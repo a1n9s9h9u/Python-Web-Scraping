{
 "cells": [
  {
   "cell_type": "code",
   "execution_count": 1,
   "metadata": {},
   "outputs": [
    {
     "name": "stdout",
     "output_type": "stream",
     "text": [
      "My name is: Anshu\n"
     ]
    }
   ],
   "source": [
    "def say_my_name(name):\n",
    "    print('My name is: '+ name)\n",
    "\n",
    "say_my_name('Anshu')"
   ]
  }
 ],
 "metadata": {
  "interpreter": {
   "hash": "cfe5cb1a8f0781d4d98f8f7260443803d13076be806f6292e9e3679af4474013"
  },
  "kernelspec": {
   "display_name": "Python 3.10.4 64-bit",
   "language": "python",
   "name": "python3"
  },
  "language_info": {
   "codemirror_mode": {
    "name": "ipython",
    "version": 3
   },
   "file_extension": ".py",
   "mimetype": "text/x-python",
   "name": "python",
   "nbconvert_exporter": "python",
   "pygments_lexer": "ipython3",
   "version": "3.10.4"
  },
  "orig_nbformat": 4
 },
 "nbformat": 4,
 "nbformat_minor": 2
}
